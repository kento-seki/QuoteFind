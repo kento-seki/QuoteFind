{
 "cells": [
  {
   "cell_type": "markdown",
   "metadata": {},
   "source": [
    "## BERT Embeddings\n",
    "\n",
    "This notebook is for creating and saving the BERT embeddings from the quote dataset.\n",
    "\n",
    "#### Input:\n",
    "* Quote dataset after cleaning for missing values and incorrect value placements (e.g. half of the quote being in 'author')\n",
    "\n",
    "#### Output:\n",
    "* Matrix of vector embeddings for the quotes, ready for KNN with incoming inputs"
   ]
  },
  {
   "cell_type": "code",
   "execution_count": 1,
   "metadata": {},
   "outputs": [],
   "source": [
    "import pandas as pd\n",
    "import numpy as np\n",
    "import time\n",
    "import re\n",
    "\n",
    "from sklearn.feature_extraction.text import TfidfVectorizer\n",
    "from transformers import BertTokenizer, BertModel\n",
    "import torch"
   ]
  },
  {
   "cell_type": "code",
   "execution_count": 3,
   "metadata": {},
   "outputs": [
    {
     "data": {
      "text/html": [
       "<div>\n",
       "<style scoped>\n",
       "    .dataframe tbody tr th:only-of-type {\n",
       "        vertical-align: middle;\n",
       "    }\n",
       "\n",
       "    .dataframe tbody tr th {\n",
       "        vertical-align: top;\n",
       "    }\n",
       "\n",
       "    .dataframe thead th {\n",
       "        text-align: right;\n",
       "    }\n",
       "</style>\n",
       "<table border=\"1\" class=\"dataframe\">\n",
       "  <thead>\n",
       "    <tr style=\"text-align: right;\">\n",
       "      <th></th>\n",
       "      <th>quote</th>\n",
       "      <th>author</th>\n",
       "      <th>category</th>\n",
       "    </tr>\n",
       "  </thead>\n",
       "  <tbody>\n",
       "    <tr>\n",
       "      <th>0</th>\n",
       "      <td>I'm selfish, impatient and a little insecure. ...</td>\n",
       "      <td>Marilyn Monroe</td>\n",
       "      <td>attributed-no-source, best, life, love, mistak...</td>\n",
       "    </tr>\n",
       "    <tr>\n",
       "      <th>1</th>\n",
       "      <td>You've gotta dance like there's nobody watchin...</td>\n",
       "      <td>William W. Purkey</td>\n",
       "      <td>dance, heaven, hurt, inspirational, life, love...</td>\n",
       "    </tr>\n",
       "    <tr>\n",
       "      <th>2</th>\n",
       "      <td>You know you're in love when you can't fall as...</td>\n",
       "      <td>Dr. Seuss</td>\n",
       "      <td>attributed-no-source, dreams, love, reality, s...</td>\n",
       "    </tr>\n",
       "    <tr>\n",
       "      <th>3</th>\n",
       "      <td>A friend is someone who knows all about you an...</td>\n",
       "      <td>Elbert Hubbard</td>\n",
       "      <td>friend, friendship, knowledge, love</td>\n",
       "    </tr>\n",
       "    <tr>\n",
       "      <th>4</th>\n",
       "      <td>Darkness cannot drive out darkness: only light...</td>\n",
       "      <td>Martin Luther King Jr., A Testament of Hope: T...</td>\n",
       "      <td>darkness, drive-out, hate, inspirational, ligh...</td>\n",
       "    </tr>\n",
       "  </tbody>\n",
       "</table>\n",
       "</div>"
      ],
      "text/plain": [
       "                                               quote  \\\n",
       "0  I'm selfish, impatient and a little insecure. ...   \n",
       "1  You've gotta dance like there's nobody watchin...   \n",
       "2  You know you're in love when you can't fall as...   \n",
       "3  A friend is someone who knows all about you an...   \n",
       "4  Darkness cannot drive out darkness: only light...   \n",
       "\n",
       "                                              author  \\\n",
       "0                                     Marilyn Monroe   \n",
       "1                                  William W. Purkey   \n",
       "2                                          Dr. Seuss   \n",
       "3                                     Elbert Hubbard   \n",
       "4  Martin Luther King Jr., A Testament of Hope: T...   \n",
       "\n",
       "                                            category  \n",
       "0  attributed-no-source, best, life, love, mistak...  \n",
       "1  dance, heaven, hurt, inspirational, life, love...  \n",
       "2  attributed-no-source, dreams, love, reality, s...  \n",
       "3                friend, friendship, knowledge, love  \n",
       "4  darkness, drive-out, hate, inspirational, ligh...  "
      ]
     },
     "execution_count": 3,
     "metadata": {},
     "output_type": "execute_result"
    }
   ],
   "source": [
    "quotes_df = pd.read_csv('quotes.csv')\n",
    "quotes_df.head()"
   ]
  },
  {
   "cell_type": "markdown",
   "metadata": {},
   "source": [
    "### Helper Functions"
   ]
  },
  {
   "cell_type": "code",
   "execution_count": 112,
   "metadata": {},
   "outputs": [],
   "source": [
    "def print_quote_by_index(idx, df):\n",
    "    \"\"\"\n",
    "    Given the index number and the dataframe of quotes, prints the quote along \n",
    "    with the author.\n",
    "    \"\"\"\n",
    "    quote = df.iloc[idx].quote\n",
    "    author = df.iloc[idx].author\n",
    "    print(f'\"{quote}\"')\n",
    "    print(f' - {author}\\n')\n",
    "\n",
    "\n",
    "def build_tfidf_matrix(quotes_df):\n",
    "    \"\"\"\n",
    "    Builds a matrix where each row corresponds to a quote, using TF-IDF vectorization.\n",
    "    \"\"\"\n",
    "    corpus = quotes_df['quote'].tolist()\n",
    "    vectorizer = TfidfVectorizer(max_features=TFIDF_MAX_FEATURES)\n",
    "    vectors = vectorizer.fit_transform(corpus)\n",
    "    matrix = vectors.todense()\n",
    "\n",
    "    # feature_names = vectorizer.get_feature_names_out()\n",
    "    # list_dense = matrix.tolist()\n",
    "    # df = pd.DataFrame(list_dense, columns=feature_names)\n",
    "    # ^ use to view the matrix\n",
    "\n",
    "    return matrix, vectorizer\n",
    "\n",
    "\n",
    "def build_bert_matrix(quotes_df, tokenizer, model):\n",
    "    \"\"\"\n",
    "    Builds a matrix where each row corresponds to a quote, using BERT vector embedding.\n",
    "    \"\"\"\n",
    "    documents = quotes_df['quote'].to_list()\n",
    "\n",
    "    # Encode documents\n",
    "    matrix = np.vstack([encode_document(doc, tokenizer, model) for doc in documents])\n",
    "\n",
    "    return matrix\n",
    "\n",
    "\n",
    "def encode_document(doc, tokenizer, model):\n",
    "    \"\"\"\n",
    "    Encode a single document (string) into a BERT embedding.\n",
    "    \"\"\"\n",
    "    inputs = tokenizer(doc, return_tensors=\"pt\", max_length=512, truncation=True, padding=True)\n",
    "    outputs = model(**inputs)\n",
    "    return outputs.last_hidden_state.mean(dim=1).detach().numpy()\n",
    "\n",
    "\n",
    "def find_closest_quote(text_vect, matrix, n_closest):\n",
    "    \"\"\"\n",
    "    Computes the distances between 'text_vect' (embedded user input) and \n",
    "    each row (representing a embedded quote) in the matrix. Then,\n",
    "    prints the top 'n_closest' quotes from the matrix using cosine \n",
    "    similarity.\n",
    "    \"\"\"\n",
    "    \n",
    "    A = matrix\n",
    "    x = text_vect.reshape((-1,1))\n",
    "    \n",
    "    temp = (np.sqrt((np.square(A)).sum(axis=1)) * np.linalg.norm(x))\n",
    "    temp[temp == 0] = np.finfo(float).tiny\n",
    "    temp = temp.reshape((-1,1)) # necessary to ensure A@x / temp is elementwise\n",
    "    print('finished computing temp')\n",
    "    \n",
    "    distances = (1 - np.matmul(A,x) / temp).flatten()\n",
    "    print('finished computing distances')\n",
    "    \n",
    "    sorted_indices = np.argsort(distances).tolist()\n",
    "    print('finished sorting\\n')\n",
    "    \n",
    "    for idx in sorted_indices[:n_closest]:\n",
    "        print_quote_by_index(idx, quotes_df)"
   ]
  },
  {
   "cell_type": "markdown",
   "metadata": {},
   "source": [
    "### Approach 1: TF-IDF Vectorisation\n",
    "\n",
    "**What is it**?\n",
    "\n",
    "TF-IDF is a smart way of weighting the importance of keywords in a given document among a corpus. A word is weighted heavily if it occurs frequently within the document (high Term Frequency) and rarely occurs in other documents (high Inverse Document Frequency). TF-IDF is the product of TF and IDF.\n",
    "\n",
    "**Caveats**\n",
    "\n",
    "TF-IDF is a glorified keyword counter, so it doesn't capture the contexts in which the words are used; in other words, it doesn't really capture the \"meaning\" of each word in its sentence.\n",
    "\n",
    "### Approach 2: BERT Embedding\n",
    "\n",
    "**What is it**?\n",
    "\n",
    "BERT was developed by Google and is very smart.\n",
    "\n",
    "**Caveats**\n",
    "\n",
    "Computationally expensive."
   ]
  },
  {
   "cell_type": "code",
   "execution_count": 11,
   "metadata": {},
   "outputs": [],
   "source": [
    "TFIDF_MAX_FEATURES = 3000"
   ]
  },
  {
   "cell_type": "code",
   "execution_count": 113,
   "metadata": {},
   "outputs": [
    {
     "name": "stdout",
     "output_type": "stream",
     "text": [
      "Initialising the quote matrix took 59.49 seconds.\n"
     ]
    }
   ],
   "source": [
    "start = time.time()\n",
    "# matrix, vectorizer = build_tfidf_matrix(quotes_df)\n",
    "\n",
    "# Load pre-trained BERT model and tokenizer\n",
    "model_name = \"bert-base-uncased\"\n",
    "tokenizer = BertTokenizer.from_pretrained(model_name)\n",
    "model = BertModel.from_pretrained(model_name)\n",
    "\n",
    "matrix = build_bert_matrix(quotes_df.iloc[:1000], tokenizer, model)\n",
    "end = time.time() \n",
    "\n",
    "print(f'Initialising the matrix for {matrix.shape[0] quotes} took {round(end - start, 2)} seconds.')"
   ]
  },
  {
   "cell_type": "code",
   "execution_count": 114,
   "metadata": {},
   "outputs": [
    {
     "data": {
      "text/plain": [
       "1000"
      ]
     },
     "execution_count": 114,
     "metadata": {},
     "output_type": "execute_result"
    }
   ],
   "source": [
    "matrix.shape[0]"
   ]
  },
  {
   "cell_type": "code",
   "execution_count": null,
   "metadata": {},
   "outputs": [],
   "source": []
  },
  {
   "cell_type": "code",
   "execution_count": 131,
   "metadata": {},
   "outputs": [],
   "source": [
    "# \"why we can't have nice things\" illustrates limitation of TF-IDF"
   ]
  },
  {
   "cell_type": "code",
   "execution_count": null,
   "metadata": {},
   "outputs": [],
   "source": []
  }
 ],
 "metadata": {
  "kernelspec": {
   "display_name": "Python 3 (ipykernel)",
   "language": "python",
   "name": "python3"
  },
  "language_info": {
   "codemirror_mode": {
    "name": "ipython",
    "version": 3
   },
   "file_extension": ".py",
   "mimetype": "text/x-python",
   "name": "python",
   "nbconvert_exporter": "python",
   "pygments_lexer": "ipython3",
   "version": "3.9.6"
  }
 },
 "nbformat": 4,
 "nbformat_minor": 4
}
