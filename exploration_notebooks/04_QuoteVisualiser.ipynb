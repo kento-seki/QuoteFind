{
 "cells": [
  {
   "cell_type": "code",
   "execution_count": 1,
   "metadata": {},
   "outputs": [],
   "source": [
    "import pandas as pd\n",
    "import numpy as np\n",
    "import os\n",
    "\n",
    "from sklearn.decomposition import TruncatedSVD, PCA\n",
    "from sklearn.manifold import TSNE\n",
    "import plotly_express as px\n",
    "\n",
    "EMBEDDINGS_DIRECTORY = 'SentenceBERT_embeddings'\n",
    "\n",
    "# make 3D plot using plotly express\n",
    "# https://snrspeaks.medium.com/visualizing-1-4-millions-game-of-thrones-words-with-bert-941184dd713a\n"
   ]
  },
  {
   "cell_type": "code",
   "execution_count": 2,
   "metadata": {},
   "outputs": [],
   "source": [
    "def construct_embedding_matrix(directory):\n",
    "    \"\"\"\n",
    "    Construct the embedding matrix from the pieces stored as pickle files in\n",
    "    the embeddings directory.\n",
    "    \"\"\"\n",
    "    embedding_files = sorted(os.listdir(directory))\n",
    "    embedding_matrix = None\n",
    "\n",
    "    for file in embedding_files:\n",
    "        piece = np.load(directory + '/' + file, allow_pickle=True)\n",
    "\n",
    "        if embedding_matrix is None:\n",
    "            embedding_matrix = piece\n",
    "        else:\n",
    "            embedding_matrix = np.vstack((embedding_matrix, piece))\n",
    "\n",
    "    return embedding_matrix\n",
    "\n",
    "\n",
    "def reduce_dimension(embedding_matrix):\n",
    "    \"\"\"\n",
    "    Reduces the dimensionality of sentence embeddings to 3D using two methods,\n",
    "    tSVD (aka LSA) and PCA.\n",
    "    \"\"\"\n",
    "\n",
    "    tsvd = TruncatedSVD(n_components=3)\n",
    "    tsvd_projection = tsvd.fit_transform(embedding_matrix)\n",
    "\n",
    "    pca = PCA(n_components=3)\n",
    "    pca_projection = pca.fit_transform(embedding_matrix)\n",
    "\n",
    "    return tsvd_projection, pca_projection\n",
    "\n",
    "\n",
    "def append_embedding_to_quote(embedding_matrix, quote_df):\n",
    "    \"\"\"\n",
    "    Appends the embedding matrix to the quote dataframe, returning a dataframe\n",
    "    with a column for each component of the vector embedding as well as the\n",
    "    original quote. Note that the rows are appended simply by the order which\n",
    "    they appear in the matrix and the dataframe.\n",
    "    \"\"\"\n",
    "\n",
    "    embedding_df = pd.DataFrame(\n",
    "        embedding_matrix,\n",
    "        columns=[f'component_{i}' for i in range(embedding_matrix.shape[1])]\n",
    "    )\n",
    "    df = pd.concat([quote_df, embedding_df], axis=1)\n",
    "\n",
    "    return df\n"
   ]
  },
  {
   "cell_type": "code",
   "execution_count": 3,
   "metadata": {},
   "outputs": [],
   "source": [
    "embedding_matrix = construct_embedding_matrix(EMBEDDINGS_DIRECTORY)\n",
    "# < 10 seconds"
   ]
  },
  {
   "cell_type": "code",
   "execution_count": 4,
   "metadata": {},
   "outputs": [],
   "source": [
    "tsvd_3d, pca_3d = reduce_dimension(embedding_matrix)\n",
    "# < 15 seconds"
   ]
  },
  {
   "cell_type": "code",
   "execution_count": 14,
   "metadata": {},
   "outputs": [
    {
     "ename": "InvalidIndexError",
     "evalue": "Reindexing only valid with uniquely valued Index objects",
     "output_type": "error",
     "traceback": [
      "\u001b[0;31m---------------------------------------------------------------------------\u001b[0m",
      "\u001b[0;31mInvalidIndexError\u001b[0m                         Traceback (most recent call last)",
      "Cell \u001b[0;32mIn[14], line 7\u001b[0m\n\u001b[1;32m      4\u001b[0m     quote_df \u001b[38;5;241m=\u001b[39m pd\u001b[38;5;241m.\u001b[39mconcat([quote_df, pd\u001b[38;5;241m.\u001b[39mread_csv(\u001b[38;5;124mf\u001b[39m\u001b[38;5;124m'\u001b[39m\u001b[38;5;124mquote_data/cleaned/\u001b[39m\u001b[38;5;132;01m{\u001b[39;00mfile\u001b[38;5;132;01m}\u001b[39;00m\u001b[38;5;124m'\u001b[39m)])\n\u001b[1;32m      5\u001b[0m quote_df \u001b[38;5;241m=\u001b[39m quote_df\u001b[38;5;241m.\u001b[39mdrop(columns\u001b[38;5;241m=\u001b[39m[\u001b[38;5;124m'\u001b[39m\u001b[38;5;124mUnnamed: 0\u001b[39m\u001b[38;5;124m'\u001b[39m])\n\u001b[0;32m----> 7\u001b[0m quote_tsvd_df \u001b[38;5;241m=\u001b[39m \u001b[43mappend_embedding_to_quote\u001b[49m\u001b[43m(\u001b[49m\u001b[43mtsvd_3d\u001b[49m\u001b[43m,\u001b[49m\u001b[43m \u001b[49m\u001b[43mquote_df\u001b[49m\u001b[43m)\u001b[49m\n",
      "Cell \u001b[0;32mIn[2], line 47\u001b[0m, in \u001b[0;36mappend_embedding_to_quote\u001b[0;34m(embedding_matrix, quote_df)\u001b[0m\n\u001b[1;32m     36\u001b[0m \u001b[38;5;124;03m\"\"\"\u001b[39;00m\n\u001b[1;32m     37\u001b[0m \u001b[38;5;124;03mAppends the embedding matrix to the quote dataframe, returning a dataframe\u001b[39;00m\n\u001b[1;32m     38\u001b[0m \u001b[38;5;124;03mwith a column for each component of the vector embedding as well as the\u001b[39;00m\n\u001b[1;32m     39\u001b[0m \u001b[38;5;124;03moriginal quote. Note that the rows are appended simply by the order which\u001b[39;00m\n\u001b[1;32m     40\u001b[0m \u001b[38;5;124;03mthey appear in the matrix and the dataframe.\u001b[39;00m\n\u001b[1;32m     41\u001b[0m \u001b[38;5;124;03m\"\"\"\u001b[39;00m\n\u001b[1;32m     43\u001b[0m embedding_df \u001b[38;5;241m=\u001b[39m pd\u001b[38;5;241m.\u001b[39mDataFrame(\n\u001b[1;32m     44\u001b[0m     embedding_matrix,\n\u001b[1;32m     45\u001b[0m     columns\u001b[38;5;241m=\u001b[39m[\u001b[38;5;124mf\u001b[39m\u001b[38;5;124m'\u001b[39m\u001b[38;5;124mcomponent_\u001b[39m\u001b[38;5;132;01m{\u001b[39;00mi\u001b[38;5;132;01m}\u001b[39;00m\u001b[38;5;124m'\u001b[39m \u001b[38;5;28;01mfor\u001b[39;00m i \u001b[38;5;129;01min\u001b[39;00m \u001b[38;5;28mrange\u001b[39m(embedding_matrix\u001b[38;5;241m.\u001b[39mshape[\u001b[38;5;241m1\u001b[39m])]\n\u001b[1;32m     46\u001b[0m )\n\u001b[0;32m---> 47\u001b[0m df \u001b[38;5;241m=\u001b[39m \u001b[43mpd\u001b[49m\u001b[38;5;241;43m.\u001b[39;49m\u001b[43mconcat\u001b[49m\u001b[43m(\u001b[49m\u001b[43m[\u001b[49m\u001b[43mquote_df\u001b[49m\u001b[43m,\u001b[49m\u001b[43m \u001b[49m\u001b[43membedding_df\u001b[49m\u001b[43m]\u001b[49m\u001b[43m,\u001b[49m\u001b[43m \u001b[49m\u001b[43maxis\u001b[49m\u001b[38;5;241;43m=\u001b[39;49m\u001b[38;5;241;43m1\u001b[39;49m\u001b[43m)\u001b[49m\n\u001b[1;32m     49\u001b[0m \u001b[38;5;28;01mreturn\u001b[39;00m df\n",
      "File \u001b[0;32m~/Library/Python/3.9/lib/python/site-packages/pandas/util/_decorators.py:331\u001b[0m, in \u001b[0;36mdeprecate_nonkeyword_arguments.<locals>.decorate.<locals>.wrapper\u001b[0;34m(*args, **kwargs)\u001b[0m\n\u001b[1;32m    325\u001b[0m \u001b[38;5;28;01mif\u001b[39;00m \u001b[38;5;28mlen\u001b[39m(args) \u001b[38;5;241m>\u001b[39m num_allow_args:\n\u001b[1;32m    326\u001b[0m     warnings\u001b[38;5;241m.\u001b[39mwarn(\n\u001b[1;32m    327\u001b[0m         msg\u001b[38;5;241m.\u001b[39mformat(arguments\u001b[38;5;241m=\u001b[39m_format_argument_list(allow_args)),\n\u001b[1;32m    328\u001b[0m         \u001b[38;5;167;01mFutureWarning\u001b[39;00m,\n\u001b[1;32m    329\u001b[0m         stacklevel\u001b[38;5;241m=\u001b[39mfind_stack_level(),\n\u001b[1;32m    330\u001b[0m     )\n\u001b[0;32m--> 331\u001b[0m \u001b[38;5;28;01mreturn\u001b[39;00m \u001b[43mfunc\u001b[49m\u001b[43m(\u001b[49m\u001b[38;5;241;43m*\u001b[39;49m\u001b[43margs\u001b[49m\u001b[43m,\u001b[49m\u001b[43m \u001b[49m\u001b[38;5;241;43m*\u001b[39;49m\u001b[38;5;241;43m*\u001b[39;49m\u001b[43mkwargs\u001b[49m\u001b[43m)\u001b[49m\n",
      "File \u001b[0;32m~/Library/Python/3.9/lib/python/site-packages/pandas/core/reshape/concat.py:381\u001b[0m, in \u001b[0;36mconcat\u001b[0;34m(objs, axis, join, ignore_index, keys, levels, names, verify_integrity, sort, copy)\u001b[0m\n\u001b[1;32m    159\u001b[0m \u001b[38;5;124;03m\"\"\"\u001b[39;00m\n\u001b[1;32m    160\u001b[0m \u001b[38;5;124;03mConcatenate pandas objects along a particular axis.\u001b[39;00m\n\u001b[1;32m    161\u001b[0m \n\u001b[0;32m   (...)\u001b[0m\n\u001b[1;32m    366\u001b[0m \u001b[38;5;124;03m1   3   4\u001b[39;00m\n\u001b[1;32m    367\u001b[0m \u001b[38;5;124;03m\"\"\"\u001b[39;00m\n\u001b[1;32m    368\u001b[0m op \u001b[38;5;241m=\u001b[39m _Concatenator(\n\u001b[1;32m    369\u001b[0m     objs,\n\u001b[1;32m    370\u001b[0m     axis\u001b[38;5;241m=\u001b[39maxis,\n\u001b[0;32m   (...)\u001b[0m\n\u001b[1;32m    378\u001b[0m     sort\u001b[38;5;241m=\u001b[39msort,\n\u001b[1;32m    379\u001b[0m )\n\u001b[0;32m--> 381\u001b[0m \u001b[38;5;28;01mreturn\u001b[39;00m \u001b[43mop\u001b[49m\u001b[38;5;241;43m.\u001b[39;49m\u001b[43mget_result\u001b[49m\u001b[43m(\u001b[49m\u001b[43m)\u001b[49m\n",
      "File \u001b[0;32m~/Library/Python/3.9/lib/python/site-packages/pandas/core/reshape/concat.py:612\u001b[0m, in \u001b[0;36m_Concatenator.get_result\u001b[0;34m(self)\u001b[0m\n\u001b[1;32m    610\u001b[0m         obj_labels \u001b[38;5;241m=\u001b[39m obj\u001b[38;5;241m.\u001b[39maxes[\u001b[38;5;241m1\u001b[39m \u001b[38;5;241m-\u001b[39m ax]\n\u001b[1;32m    611\u001b[0m         \u001b[38;5;28;01mif\u001b[39;00m \u001b[38;5;129;01mnot\u001b[39;00m new_labels\u001b[38;5;241m.\u001b[39mequals(obj_labels):\n\u001b[0;32m--> 612\u001b[0m             indexers[ax] \u001b[38;5;241m=\u001b[39m \u001b[43mobj_labels\u001b[49m\u001b[38;5;241;43m.\u001b[39;49m\u001b[43mget_indexer\u001b[49m\u001b[43m(\u001b[49m\u001b[43mnew_labels\u001b[49m\u001b[43m)\u001b[49m\n\u001b[1;32m    614\u001b[0m     mgrs_indexers\u001b[38;5;241m.\u001b[39mappend((obj\u001b[38;5;241m.\u001b[39m_mgr, indexers))\n\u001b[1;32m    616\u001b[0m new_data \u001b[38;5;241m=\u001b[39m concatenate_managers(\n\u001b[1;32m    617\u001b[0m     mgrs_indexers, \u001b[38;5;28mself\u001b[39m\u001b[38;5;241m.\u001b[39mnew_axes, concat_axis\u001b[38;5;241m=\u001b[39m\u001b[38;5;28mself\u001b[39m\u001b[38;5;241m.\u001b[39mbm_axis, copy\u001b[38;5;241m=\u001b[39m\u001b[38;5;28mself\u001b[39m\u001b[38;5;241m.\u001b[39mcopy\n\u001b[1;32m    618\u001b[0m )\n",
      "File \u001b[0;32m~/Library/Python/3.9/lib/python/site-packages/pandas/core/indexes/base.py:3904\u001b[0m, in \u001b[0;36mIndex.get_indexer\u001b[0;34m(self, target, method, limit, tolerance)\u001b[0m\n\u001b[1;32m   3901\u001b[0m \u001b[38;5;28mself\u001b[39m\u001b[38;5;241m.\u001b[39m_check_indexing_method(method, limit, tolerance)\n\u001b[1;32m   3903\u001b[0m \u001b[38;5;28;01mif\u001b[39;00m \u001b[38;5;129;01mnot\u001b[39;00m \u001b[38;5;28mself\u001b[39m\u001b[38;5;241m.\u001b[39m_index_as_unique:\n\u001b[0;32m-> 3904\u001b[0m     \u001b[38;5;28;01mraise\u001b[39;00m InvalidIndexError(\u001b[38;5;28mself\u001b[39m\u001b[38;5;241m.\u001b[39m_requires_unique_msg)\n\u001b[1;32m   3906\u001b[0m \u001b[38;5;28;01mif\u001b[39;00m \u001b[38;5;28mlen\u001b[39m(target) \u001b[38;5;241m==\u001b[39m \u001b[38;5;241m0\u001b[39m:\n\u001b[1;32m   3907\u001b[0m     \u001b[38;5;28;01mreturn\u001b[39;00m np\u001b[38;5;241m.\u001b[39marray([], dtype\u001b[38;5;241m=\u001b[39mnp\u001b[38;5;241m.\u001b[39mintp)\n",
      "\u001b[0;31mInvalidIndexError\u001b[0m: Reindexing only valid with uniquely valued Index objects"
     ]
    }
   ],
   "source": [
    "quote_df = pd.DataFrame()\n",
    "\n",
    "for file in os.listdir('quote_data/cleaned'):\n",
    "    quote_df = pd.concat([quote_df, pd.read_csv(f'quote_data/cleaned/{file}')])\n",
    "quote_df = quote_df.drop(columns=['Unnamed: 0'])\n",
    "\n",
    "quote_tsvd_df = append_embedding_to_quote(tsvd_3d, quote_df)"
   ]
  },
  {
   "cell_type": "code",
   "execution_count": null,
   "metadata": {},
   "outputs": [
    {
     "data": {
      "text/html": [
       "<div>\n",
       "<style scoped>\n",
       "    .dataframe tbody tr th:only-of-type {\n",
       "        vertical-align: middle;\n",
       "    }\n",
       "\n",
       "    .dataframe tbody tr th {\n",
       "        vertical-align: top;\n",
       "    }\n",
       "\n",
       "    .dataframe thead th {\n",
       "        text-align: right;\n",
       "    }\n",
       "</style>\n",
       "<table border=\"1\" class=\"dataframe\">\n",
       "  <thead>\n",
       "    <tr style=\"text-align: right;\">\n",
       "      <th></th>\n",
       "      <th>quote</th>\n",
       "      <th>author</th>\n",
       "      <th>component_0</th>\n",
       "      <th>component_1</th>\n",
       "      <th>component_2</th>\n",
       "    </tr>\n",
       "  </thead>\n",
       "  <tbody>\n",
       "    <tr>\n",
       "      <th>0</th>\n",
       "      <td>I'm selfish, impatient and a little insecure. ...</td>\n",
       "      <td>Marilyn Monroe</td>\n",
       "      <td>0.355903</td>\n",
       "      <td>-0.095574</td>\n",
       "      <td>0.325896</td>\n",
       "    </tr>\n",
       "    <tr>\n",
       "      <th>1</th>\n",
       "      <td>You've gotta dance like there's nobody watchin...</td>\n",
       "      <td>William W. Purkey</td>\n",
       "      <td>0.395555</td>\n",
       "      <td>0.090211</td>\n",
       "      <td>0.160476</td>\n",
       "    </tr>\n",
       "    <tr>\n",
       "      <th>2</th>\n",
       "      <td>You know you're in love when you can't fall as...</td>\n",
       "      <td>Dr. Seuss</td>\n",
       "      <td>0.427160</td>\n",
       "      <td>0.187184</td>\n",
       "      <td>0.212613</td>\n",
       "    </tr>\n",
       "    <tr>\n",
       "      <th>3</th>\n",
       "      <td>A friend is someone who knows all about you an...</td>\n",
       "      <td>Elbert Hubbard</td>\n",
       "      <td>0.237631</td>\n",
       "      <td>0.128730</td>\n",
       "      <td>0.196789</td>\n",
       "    </tr>\n",
       "    <tr>\n",
       "      <th>4</th>\n",
       "      <td>Darkness cannot drive out darkness: only light...</td>\n",
       "      <td>Martin Luther King Jr.</td>\n",
       "      <td>0.473559</td>\n",
       "      <td>0.065948</td>\n",
       "      <td>-0.093720</td>\n",
       "    </tr>\n",
       "    <tr>\n",
       "      <th>...</th>\n",
       "      <td>...</td>\n",
       "      <td>...</td>\n",
       "      <td>...</td>\n",
       "      <td>...</td>\n",
       "      <td>...</td>\n",
       "    </tr>\n",
       "    <tr>\n",
       "      <th>499703</th>\n",
       "      <td>Being is always becoming people change and sta...</td>\n",
       "      <td>people change and stay the same.</td>\n",
       "      <td>0.496923</td>\n",
       "      <td>-0.114046</td>\n",
       "      <td>-0.045989</td>\n",
       "    </tr>\n",
       "    <tr>\n",
       "      <th>499704</th>\n",
       "      <td>We normally know we're getting older when the ...</td>\n",
       "      <td>unless you're a cancer survivor! Then we love ...</td>\n",
       "      <td>0.379813</td>\n",
       "      <td>-0.239512</td>\n",
       "      <td>-0.121045</td>\n",
       "    </tr>\n",
       "    <tr>\n",
       "      <th>499705</th>\n",
       "      <td>Cole was meticulous to a fault office scuttleb...</td>\n",
       "      <td>office scuttlebut had it that he never went ou...</td>\n",
       "      <td>0.208867</td>\n",
       "      <td>0.044685</td>\n",
       "      <td>0.008902</td>\n",
       "    </tr>\n",
       "    <tr>\n",
       "      <th>499706</th>\n",
       "      <td>Naivete in grownups is often charming but when...</td>\n",
       "      <td>but when coupled with vanity it is indistingui...</td>\n",
       "      <td>0.268146</td>\n",
       "      <td>-0.168866</td>\n",
       "      <td>0.190102</td>\n",
       "    </tr>\n",
       "    <tr>\n",
       "      <th>499707</th>\n",
       "      <td>Gossip's like jam it don't bear fruit if you d...</td>\n",
       "      <td>it don't bear fruit if you don't spread it.</td>\n",
       "      <td>0.374224</td>\n",
       "      <td>0.069985</td>\n",
       "      <td>0.025878</td>\n",
       "    </tr>\n",
       "  </tbody>\n",
       "</table>\n",
       "<p>499708 rows × 5 columns</p>\n",
       "</div>"
      ],
      "text/plain": [
       "                                                    quote  \\\n",
       "0       I'm selfish, impatient and a little insecure. ...   \n",
       "1       You've gotta dance like there's nobody watchin...   \n",
       "2       You know you're in love when you can't fall as...   \n",
       "3       A friend is someone who knows all about you an...   \n",
       "4       Darkness cannot drive out darkness: only light...   \n",
       "...                                                   ...   \n",
       "499703  Being is always becoming people change and sta...   \n",
       "499704  We normally know we're getting older when the ...   \n",
       "499705  Cole was meticulous to a fault office scuttleb...   \n",
       "499706  Naivete in grownups is often charming but when...   \n",
       "499707  Gossip's like jam it don't bear fruit if you d...   \n",
       "\n",
       "                                                   author  component_0  \\\n",
       "0                                          Marilyn Monroe     0.355903   \n",
       "1                                       William W. Purkey     0.395555   \n",
       "2                                               Dr. Seuss     0.427160   \n",
       "3                                          Elbert Hubbard     0.237631   \n",
       "4                                  Martin Luther King Jr.     0.473559   \n",
       "...                                                   ...          ...   \n",
       "499703                   people change and stay the same.     0.496923   \n",
       "499704  unless you're a cancer survivor! Then we love ...     0.379813   \n",
       "499705  office scuttlebut had it that he never went ou...     0.208867   \n",
       "499706  but when coupled with vanity it is indistingui...     0.268146   \n",
       "499707        it don't bear fruit if you don't spread it.     0.374224   \n",
       "\n",
       "        component_1  component_2  \n",
       "0         -0.095574     0.325896  \n",
       "1          0.090211     0.160476  \n",
       "2          0.187184     0.212613  \n",
       "3          0.128730     0.196789  \n",
       "4          0.065948    -0.093720  \n",
       "...             ...          ...  \n",
       "499703    -0.114046    -0.045989  \n",
       "499704    -0.239512    -0.121045  \n",
       "499705     0.044685     0.008902  \n",
       "499706    -0.168866     0.190102  \n",
       "499707     0.069985     0.025878  \n",
       "\n",
       "[499708 rows x 5 columns]"
      ]
     },
     "execution_count": 6,
     "metadata": {},
     "output_type": "execute_result"
    }
   ],
   "source": [
    "quote_tsvd_df"
   ]
  },
  {
   "cell_type": "markdown",
   "metadata": {},
   "source": [
    "### tSVD"
   ]
  },
  {
   "cell_type": "code",
   "execution_count": null,
   "metadata": {},
   "outputs": [],
   "source": [
    "fig = px.scatter_3d(\n",
    "    quote_df,\n",
    "    x = quote_tsvd_df['component_0'],\n",
    "    y = quote_tsvd_df['component_1'],\n",
    "    z = quote_tsvd_df['component_2'],\n",
    "    hover_data = 'quote'\n",
    ")\n",
    "\n",
    "# fig.show()"
   ]
  },
  {
   "cell_type": "markdown",
   "metadata": {},
   "source": [
    "### PCA"
   ]
  },
  {
   "cell_type": "code",
   "execution_count": null,
   "metadata": {},
   "outputs": [],
   "source": [
    "fig = px.scatter_3d(\n",
    "    x = pca_3d[:,0],\n",
    "    y = pca_3d[:,1],\n",
    "    z = pca_3d[:,2],\n",
    ")\n",
    "\n",
    "# fig.show()"
   ]
  },
  {
   "cell_type": "markdown",
   "metadata": {},
   "source": [
    "### t-SNE"
   ]
  },
  {
   "cell_type": "code",
   "execution_count": null,
   "metadata": {},
   "outputs": [],
   "source": [
    "tsne = TSNE(n_components=3)\n",
    "# tsne_projection = tsne.fit_transform(embedding_matrix)\n",
    "# tSNE is computationally expensive! Waited 5 minutes trying to reduce whole\n",
    "# dataset but was still going..."
   ]
  },
  {
   "cell_type": "code",
   "execution_count": null,
   "metadata": {},
   "outputs": [],
   "source": [
    "RANDOM_STATE = 0\n",
    "sample = append_embedding_to_quote(embedding_matrix, quote_df) \\\n",
    "    .sample(n=1000, random_state=RANDOM_STATE)\n",
    "\n",
    "sample.head()"
   ]
  },
  {
   "cell_type": "code",
   "execution_count": null,
   "metadata": {},
   "outputs": [
    {
     "data": {
      "text/plain": [
       "(499708, 384)"
      ]
     },
     "execution_count": 11,
     "metadata": {},
     "output_type": "execute_result"
    }
   ],
   "source": [
    "embedding_matrix.shape"
   ]
  },
  {
   "cell_type": "code",
   "execution_count": null,
   "metadata": {},
   "outputs": [],
   "source": [
    "sample_embeddings = sample[[f'component_{i}' for i in range(384)]].to_numpy()\n",
    "tsne_small_projection = tsne.fit_transform(sample_embeddings)"
   ]
  },
  {
   "cell_type": "code",
   "execution_count": null,
   "metadata": {},
   "outputs": [],
   "source": [
    "sample_tsne = append_embedding_to_quote(tsne_small_projection, quote_df.loc[sample.index])"
   ]
  },
  {
   "cell_type": "code",
   "execution_count": null,
   "metadata": {},
   "outputs": [],
   "source": [
    "sample_tsne"
   ]
  },
  {
   "cell_type": "code",
   "execution_count": null,
   "metadata": {},
   "outputs": [],
   "source": [
    "fig = px.scatter_3d(\n",
    "    x = sample_tsne['0'],\n",
    "    y = sample_tsne['1'],\n",
    "    z = sample_tsne['2'],\n",
    ")\n",
    "\n",
    "fig.show()"
   ]
  },
  {
   "cell_type": "code",
   "execution_count": null,
   "metadata": {},
   "outputs": [],
   "source": []
  }
 ],
 "metadata": {
  "kernelspec": {
   "display_name": "Python 3",
   "language": "python",
   "name": "python3"
  },
  "language_info": {
   "codemirror_mode": {
    "name": "ipython",
    "version": 3
   },
   "file_extension": ".py",
   "mimetype": "text/x-python",
   "name": "python",
   "nbconvert_exporter": "python",
   "pygments_lexer": "ipython3",
   "version": "3.9.6"
  }
 },
 "nbformat": 4,
 "nbformat_minor": 2
}
