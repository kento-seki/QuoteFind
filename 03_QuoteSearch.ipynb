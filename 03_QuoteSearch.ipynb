{
 "cells": [
  {
   "cell_type": "markdown",
   "id": "ce198b63-9d19-4f2b-8da6-1d1160598ee6",
   "metadata": {},
   "source": [
    "## Quote Search"
   ]
  },
  {
   "cell_type": "code",
   "execution_count": 2,
   "id": "89ddfa3f",
   "metadata": {},
   "outputs": [],
   "source": [
    "from sentence_transformers import SentenceTransformer, util\n",
    "import torch\n",
    "\n",
    "import pandas as pd\n",
    "import numpy as np\n",
    "import os"
   ]
  },
  {
   "cell_type": "code",
   "execution_count": 3,
   "id": "adb715b5",
   "metadata": {},
   "outputs": [],
   "source": [
    "def print_quote_by_index(idx, df):\n",
    "    \"\"\"\n",
    "    Given the index number and the dataframe of quotes, prints the quote along \n",
    "    with the author.\n",
    "    \"\"\"\n",
    "    quote = df.iloc[idx].quote\n",
    "    author = df.iloc[idx].author\n",
    "    print(f'\"{quote}\"')\n",
    "    print(f' - {author}\\n')"
   ]
  },
  {
   "cell_type": "code",
   "execution_count": 4,
   "id": "e469cc3c",
   "metadata": {},
   "outputs": [],
   "source": [
    "quotes_df = pd.read_csv('quotes_clean.csv')"
   ]
  },
  {
   "cell_type": "code",
   "execution_count": 5,
   "id": "bae8d893",
   "metadata": {},
   "outputs": [
    {
     "name": "stdout",
     "output_type": "stream",
     "text": [
      "Embeddings loaded. Matrix shape: (499708, 384)\n"
     ]
    }
   ],
   "source": [
    "embedding_files = sorted(os.listdir('SentenceBERT_embeddings'))\n",
    "\n",
    "embedding_matrix = None\n",
    "\n",
    "for file in embedding_files:\n",
    "    embeddings_part = np.load('SentenceBERT_embeddings/' + file, allow_pickle=True)\n",
    "    \n",
    "    if embedding_matrix is None:\n",
    "        embedding_matrix = embeddings_part\n",
    "    else:\n",
    "        embedding_matrix = np.vstack((embedding_matrix, embeddings_part))\n",
    "\n",
    "print(f'Embeddings loaded. Matrix shape: {embedding_matrix.shape}')"
   ]
  },
  {
   "cell_type": "code",
   "execution_count": 15,
   "id": "dc02e2f4",
   "metadata": {},
   "outputs": [
    {
     "name": "stdout",
     "output_type": "stream",
     "text": [
      "\"What is life for? Life is for love.\"\n",
      " - Debasish Mridha\n",
      "\n",
      "\"To love life is to love all of it.\"\n",
      " - Erin Fall Haskell\n",
      "\n",
      "\"To love life is to love God.\"\n",
      " - Leo Tolstoy\n",
      "\n",
      "\"To love life is to love all of life; the suffering, the joy, the pain, the magnificence...all of it!\"\n",
      " - Erin Fall Haskell\n",
      "\n",
      "\"We are born to be loved, we live to be loved, and we die to be loved; so life is for love.\"\n",
      " - Debasish Mridha\n",
      "\n"
     ]
    }
   ],
   "source": [
    "model = SentenceTransformer('all-MiniLM-L6-v2')\n",
    "\n",
    "input_embedding = model.encode('the meaning of life is to love')\n",
    "\n",
    "similarity_scores = util.cos_sim(input_embedding, embedding_matrix)\n",
    "values, indices = torch.topk(similarity_scores, k=5)\n",
    "\n",
    "for idx in indices.tolist()[0]:\n",
    "    print_quote_by_index(idx, quotes_df)"
   ]
  },
  {
   "cell_type": "code",
   "execution_count": null,
   "id": "72681a46",
   "metadata": {},
   "outputs": [],
   "source": []
  }
 ],
 "metadata": {
  "kernelspec": {
   "display_name": "Python 3 (ipykernel)",
   "language": "python",
   "name": "python3"
  },
  "language_info": {
   "codemirror_mode": {
    "name": "ipython",
    "version": 3
   },
   "file_extension": ".py",
   "mimetype": "text/x-python",
   "name": "python",
   "nbconvert_exporter": "python",
   "pygments_lexer": "ipython3",
   "version": "3.9.6"
  }
 },
 "nbformat": 4,
 "nbformat_minor": 5
}
