{
 "cells": [
  {
   "cell_type": "markdown",
   "metadata": {},
   "source": [
    "## BERT Embeddings: SENTENCE BERT\n",
    "\n",
    "* Get 10,000 quotes with 'love' in the category column\n",
    "* Do BERT embeddings\n",
    "* See how well the embeddings perform in getting quotes that are similar in MEANING to the input text"
   ]
  },
  {
   "cell_type": "code",
   "execution_count": 5,
   "metadata": {},
   "outputs": [],
   "source": [
    "import pandas as pd\n",
    "import numpy as np\n",
    "import time\n",
    "import re\n",
    "\n",
    "from sentence_transformers import SentenceTransformer, util\n",
    "import torch"
   ]
  },
  {
   "cell_type": "code",
   "execution_count": 6,
   "metadata": {},
   "outputs": [
    {
     "data": {
      "text/html": [
       "<div>\n",
       "<style scoped>\n",
       "    .dataframe tbody tr th:only-of-type {\n",
       "        vertical-align: middle;\n",
       "    }\n",
       "\n",
       "    .dataframe tbody tr th {\n",
       "        vertical-align: top;\n",
       "    }\n",
       "\n",
       "    .dataframe thead th {\n",
       "        text-align: right;\n",
       "    }\n",
       "</style>\n",
       "<table border=\"1\" class=\"dataframe\">\n",
       "  <thead>\n",
       "    <tr style=\"text-align: right;\">\n",
       "      <th></th>\n",
       "      <th>quote</th>\n",
       "      <th>author</th>\n",
       "    </tr>\n",
       "  </thead>\n",
       "  <tbody>\n",
       "    <tr>\n",
       "      <th>0</th>\n",
       "      <td>Some people may decide to hate you for no reas...</td>\n",
       "      <td>Ali B. Moe</td>\n",
       "    </tr>\n",
       "    <tr>\n",
       "      <th>1</th>\n",
       "      <td>Does it help if we're so strong-willed, stubbo...</td>\n",
       "      <td>Orson Scott Card</td>\n",
       "    </tr>\n",
       "    <tr>\n",
       "      <th>2</th>\n",
       "      <td>Natural forces within us are the true healers ...</td>\n",
       "      <td>Hippocrates</td>\n",
       "    </tr>\n",
       "    <tr>\n",
       "      <th>3</th>\n",
       "      <td>In the hope that people can change.</td>\n",
       "      <td>Sam Crescent</td>\n",
       "    </tr>\n",
       "    <tr>\n",
       "      <th>4</th>\n",
       "      <td>The Christian life is not about pleasing God t...</td>\n",
       "      <td>Marcus J. Borg</td>\n",
       "    </tr>\n",
       "  </tbody>\n",
       "</table>\n",
       "</div>"
      ],
      "text/plain": [
       "                                               quote            author\n",
       "0  Some people may decide to hate you for no reas...        Ali B. Moe\n",
       "1  Does it help if we're so strong-willed, stubbo...  Orson Scott Card\n",
       "2  Natural forces within us are the true healers ...       Hippocrates\n",
       "3                In the hope that people can change.      Sam Crescent\n",
       "4  The Christian life is not about pleasing God t...    Marcus J. Borg"
      ]
     },
     "execution_count": 6,
     "metadata": {},
     "output_type": "execute_result"
    }
   ],
   "source": [
    "quotes_df = pd.read_csv('quotes_clean.csv')\n",
    "quotes_df.head()"
   ]
  },
  {
   "cell_type": "code",
   "execution_count": 8,
   "metadata": {},
   "outputs": [],
   "source": [
    "model = SentenceTransformer('all-MiniLM-L6-v2')\n",
    "\n",
    "# Process in sections of roughly 10,000 quotes\n",
    "for i, section in enumerate(np.array_split(quotes_df, 50)):\n",
    "    sentences = section['quote'].tolist()\n",
    "    sentence_embeddings = model.encode(sentences)\n",
    "\n",
    "    sentence_embeddings.dump(f'new_SentenceBERT_embeddings/embeddings_{i}')"
   ]
  },
  {
   "cell_type": "code",
   "execution_count": null,
   "metadata": {},
   "outputs": [],
   "source": []
  }
 ],
 "metadata": {
  "kernelspec": {
   "display_name": "QuoteAppKernel",
   "language": "python",
   "name": "quoteappkernel"
  },
  "language_info": {
   "codemirror_mode": {
    "name": "ipython",
    "version": 3
   },
   "file_extension": ".py",
   "mimetype": "text/x-python",
   "name": "python",
   "nbconvert_exporter": "python",
   "pygments_lexer": "ipython3",
   "version": "3.12.3"
  }
 },
 "nbformat": 4,
 "nbformat_minor": 4
}
