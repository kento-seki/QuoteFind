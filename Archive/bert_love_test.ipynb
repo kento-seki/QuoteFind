{
 "cells": [
  {
   "cell_type": "markdown",
   "metadata": {},
   "source": [
    "## BERT Embeddings: experimental\n",
    "\n",
    "* Get 10,000 quotes with 'love' in the category column\n",
    "* Do BERT embeddings\n",
    "* See how well the embeddings perform in getting quotes that are similar in MEANING to the input text"
   ]
  },
  {
   "cell_type": "code",
   "execution_count": 51,
   "metadata": {},
   "outputs": [],
   "source": [
    "import pandas as pd\n",
    "import numpy as np\n",
    "import time\n",
    "import re\n",
    "\n",
    "from transformers import BertTokenizer, BertModel\n",
    "import torch"
   ]
  },
  {
   "cell_type": "code",
   "execution_count": 2,
   "metadata": {},
   "outputs": [
    {
     "data": {
      "text/html": [
       "<div>\n",
       "<style scoped>\n",
       "    .dataframe tbody tr th:only-of-type {\n",
       "        vertical-align: middle;\n",
       "    }\n",
       "\n",
       "    .dataframe tbody tr th {\n",
       "        vertical-align: top;\n",
       "    }\n",
       "\n",
       "    .dataframe thead th {\n",
       "        text-align: right;\n",
       "    }\n",
       "</style>\n",
       "<table border=\"1\" class=\"dataframe\">\n",
       "  <thead>\n",
       "    <tr style=\"text-align: right;\">\n",
       "      <th></th>\n",
       "      <th>quote</th>\n",
       "      <th>author</th>\n",
       "      <th>category</th>\n",
       "      <th>author_len</th>\n",
       "    </tr>\n",
       "  </thead>\n",
       "  <tbody>\n",
       "    <tr>\n",
       "      <th>0</th>\n",
       "      <td>I'm selfish, impatient and a little insecure. ...</td>\n",
       "      <td>Marilyn Monroe</td>\n",
       "      <td>attributed-no-source, best, life, love, mistak...</td>\n",
       "      <td>2</td>\n",
       "    </tr>\n",
       "    <tr>\n",
       "      <th>1</th>\n",
       "      <td>You've gotta dance like there's nobody watchin...</td>\n",
       "      <td>William W. Purkey</td>\n",
       "      <td>dance, heaven, hurt, inspirational, life, love...</td>\n",
       "      <td>3</td>\n",
       "    </tr>\n",
       "    <tr>\n",
       "      <th>2</th>\n",
       "      <td>You know you're in love when you can't fall as...</td>\n",
       "      <td>Dr. Seuss</td>\n",
       "      <td>attributed-no-source, dreams, love, reality, s...</td>\n",
       "      <td>2</td>\n",
       "    </tr>\n",
       "    <tr>\n",
       "      <th>3</th>\n",
       "      <td>A friend is someone who knows all about you an...</td>\n",
       "      <td>Elbert Hubbard</td>\n",
       "      <td>friend, friendship, knowledge, love</td>\n",
       "      <td>2</td>\n",
       "    </tr>\n",
       "    <tr>\n",
       "      <th>4</th>\n",
       "      <td>Darkness cannot drive out darkness: only light...</td>\n",
       "      <td>Martin Luther King Jr.</td>\n",
       "      <td>darkness, drive-out, hate, inspirational, ligh...</td>\n",
       "      <td>4</td>\n",
       "    </tr>\n",
       "  </tbody>\n",
       "</table>\n",
       "</div>"
      ],
      "text/plain": [
       "                                               quote                  author  \\\n",
       "0  I'm selfish, impatient and a little insecure. ...          Marilyn Monroe   \n",
       "1  You've gotta dance like there's nobody watchin...       William W. Purkey   \n",
       "2  You know you're in love when you can't fall as...               Dr. Seuss   \n",
       "3  A friend is someone who knows all about you an...          Elbert Hubbard   \n",
       "4  Darkness cannot drive out darkness: only light...  Martin Luther King Jr.   \n",
       "\n",
       "                                            category  author_len  \n",
       "0  attributed-no-source, best, life, love, mistak...           2  \n",
       "1  dance, heaven, hurt, inspirational, life, love...           3  \n",
       "2  attributed-no-source, dreams, love, reality, s...           2  \n",
       "3                friend, friendship, knowledge, love           2  \n",
       "4  darkness, drive-out, hate, inspirational, ligh...           4  "
      ]
     },
     "execution_count": 2,
     "metadata": {},
     "output_type": "execute_result"
    }
   ],
   "source": [
    "quotes_df = pd.read_csv('quotes_clean.csv')\n",
    "quotes_df.head()"
   ]
  },
  {
   "cell_type": "markdown",
   "metadata": {},
   "source": [
    "### Helper Functions"
   ]
  },
  {
   "cell_type": "code",
   "execution_count": 14,
   "metadata": {},
   "outputs": [],
   "source": [
    "def print_quote_by_index(idx, df):\n",
    "    \"\"\"\n",
    "    Given the index number and the dataframe of quotes, prints the quote along \n",
    "    with the author.\n",
    "    \"\"\"\n",
    "    quote = df.iloc[idx].quote\n",
    "    author = df.iloc[idx].author\n",
    "    print(f'\"{quote}\"')\n",
    "    print(f' - {author}\\n')\n",
    "\n",
    "\n",
    "def build_tfidf_matrix(quotes_df):\n",
    "    \"\"\"\n",
    "    Builds a matrix where each row corresponds to a quote, using TF-IDF vectorization.\n",
    "    \"\"\"\n",
    "    corpus = quotes_df['quote'].tolist()\n",
    "    vectorizer = TfidfVectorizer(max_features=TFIDF_MAX_FEATURES)\n",
    "    vectors = vectorizer.fit_transform(corpus)\n",
    "    matrix = vectors.todense()\n",
    "\n",
    "    # feature_names = vectorizer.get_feature_names_out()\n",
    "    # list_dense = matrix.tolist()\n",
    "    # df = pd.DataFrame(list_dense, columns=feature_names)\n",
    "    # ^ use to view the matrix\n",
    "\n",
    "    return matrix, vectorizer\n",
    "\n",
    "\n",
    "def build_bert_matrix(quotes_df, tokenizer, model):\n",
    "    \"\"\"\n",
    "    Builds a matrix where each row corresponds to a quote, using BERT vector embedding.\n",
    "    \"\"\"\n",
    "    documents = quotes_df['quote'].to_list()\n",
    "\n",
    "    # Encode documents\n",
    "    matrix = np.vstack([encode_document(doc, tokenizer, model) for doc in documents])\n",
    "\n",
    "    return matrix\n",
    "\n",
    "\n",
    "def encode_document(doc, tokenizer, model):\n",
    "    \"\"\"\n",
    "    Encode a single document (string) into a BERT embedding.\n",
    "    \"\"\"\n",
    "    inputs = tokenizer(doc, return_tensors=\"pt\", max_length=512, truncation=True, padding=True)\n",
    "    outputs = model(**inputs)\n",
    "    return outputs.last_hidden_state.mean(dim=1).detach().numpy()\n",
    "\n",
    "\n",
    "def find_closest_quotes(text_vect, matrix, n_closest):\n",
    "    \"\"\"\n",
    "    Computes the distances between 'text_vect' (embedded user input) and each\n",
    "    row (representing a embedded quote) in the matrix. Then,returns the row\n",
    "    indices of the top 'n_closest' quotes from the matrix using cosine \n",
    "    similarity.\n",
    "    \"\"\"\n",
    "    \n",
    "    A = matrix\n",
    "    x = text_vect.reshape((-1,1))\n",
    "    \n",
    "    temp = (np.sqrt((np.square(A)).sum(axis=1)) * np.linalg.norm(x))\n",
    "    temp[temp == 0] = np.finfo(float).tiny\n",
    "    temp = temp.reshape((-1,1)) # necessary to ensure A@x / temp is elementwise\n",
    "    print('finished computing temp')\n",
    "    \n",
    "    distances = (1 - np.matmul(A,x) / temp).flatten()\n",
    "    print('finished computing distances')\n",
    "    \n",
    "    sorted_indices = np.argsort(distances).tolist()\n",
    "    print('finished sorting\\n')\n",
    "    \n",
    "    return sorted_indices[:n_closest]"
   ]
  },
  {
   "cell_type": "markdown",
   "metadata": {},
   "source": [
    "### Experiment on Love quotes"
   ]
  },
  {
   "cell_type": "code",
   "execution_count": 9,
   "metadata": {},
   "outputs": [
    {
     "data": {
      "text/html": [
       "<div>\n",
       "<style scoped>\n",
       "    .dataframe tbody tr th:only-of-type {\n",
       "        vertical-align: middle;\n",
       "    }\n",
       "\n",
       "    .dataframe tbody tr th {\n",
       "        vertical-align: top;\n",
       "    }\n",
       "\n",
       "    .dataframe thead th {\n",
       "        text-align: right;\n",
       "    }\n",
       "</style>\n",
       "<table border=\"1\" class=\"dataframe\">\n",
       "  <thead>\n",
       "    <tr style=\"text-align: right;\">\n",
       "      <th></th>\n",
       "      <th>quote</th>\n",
       "      <th>author</th>\n",
       "      <th>category</th>\n",
       "      <th>author_len</th>\n",
       "    </tr>\n",
       "  </thead>\n",
       "  <tbody>\n",
       "    <tr>\n",
       "      <th>0</th>\n",
       "      <td>I'm selfish, impatient and a little insecure. ...</td>\n",
       "      <td>Marilyn Monroe</td>\n",
       "      <td>attributed-no-source, best, life, love, mistak...</td>\n",
       "      <td>2</td>\n",
       "    </tr>\n",
       "    <tr>\n",
       "      <th>1</th>\n",
       "      <td>You've gotta dance like there's nobody watchin...</td>\n",
       "      <td>William W. Purkey</td>\n",
       "      <td>dance, heaven, hurt, inspirational, life, love...</td>\n",
       "      <td>3</td>\n",
       "    </tr>\n",
       "    <tr>\n",
       "      <th>2</th>\n",
       "      <td>You know you're in love when you can't fall as...</td>\n",
       "      <td>Dr. Seuss</td>\n",
       "      <td>attributed-no-source, dreams, love, reality, s...</td>\n",
       "      <td>2</td>\n",
       "    </tr>\n",
       "    <tr>\n",
       "      <th>3</th>\n",
       "      <td>A friend is someone who knows all about you an...</td>\n",
       "      <td>Elbert Hubbard</td>\n",
       "      <td>friend, friendship, knowledge, love</td>\n",
       "      <td>2</td>\n",
       "    </tr>\n",
       "    <tr>\n",
       "      <th>4</th>\n",
       "      <td>Darkness cannot drive out darkness: only light...</td>\n",
       "      <td>Martin Luther King Jr.</td>\n",
       "      <td>darkness, drive-out, hate, inspirational, ligh...</td>\n",
       "      <td>4</td>\n",
       "    </tr>\n",
       "    <tr>\n",
       "      <th>...</th>\n",
       "      <td>...</td>\n",
       "      <td>...</td>\n",
       "      <td>...</td>\n",
       "      <td>...</td>\n",
       "    </tr>\n",
       "    <tr>\n",
       "      <th>9995</th>\n",
       "      <td>The only time I hold my wife's hand tightly is...</td>\n",
       "      <td>Matshona Dhliwayo</td>\n",
       "      <td>funny-quotations, funny-quote, funny-quotes, h...</td>\n",
       "      <td>2</td>\n",
       "    </tr>\n",
       "    <tr>\n",
       "      <th>9996</th>\n",
       "      <td>Never judge an author by her haters.</td>\n",
       "      <td>Tracy Millosovich</td>\n",
       "      <td>aturhot, author, authors-quote, haters-quote, ...</td>\n",
       "      <td>2</td>\n",
       "    </tr>\n",
       "    <tr>\n",
       "      <th>9997</th>\n",
       "      <td>Lovers are food for each other to sustain thei...</td>\n",
       "      <td>Munia Khan</td>\n",
       "      <td>each, food, foods, life, lives, love, love-quo...</td>\n",
       "      <td>2</td>\n",
       "    </tr>\n",
       "    <tr>\n",
       "      <th>9998</th>\n",
       "      <td>The world can be a great big scary place,and f...</td>\n",
       "      <td>Rachel C. Weingarten</td>\n",
       "      <td>faith, faith-quotes, love, love-quotes</td>\n",
       "      <td>3</td>\n",
       "    </tr>\n",
       "    <tr>\n",
       "      <th>9999</th>\n",
       "      <td>It’s frightening because love is unpredictable...</td>\n",
       "      <td>S.A. Wolfe</td>\n",
       "      <td>frightening-love, love-quotes</td>\n",
       "      <td>2</td>\n",
       "    </tr>\n",
       "  </tbody>\n",
       "</table>\n",
       "<p>10000 rows × 4 columns</p>\n",
       "</div>"
      ],
      "text/plain": [
       "                                                  quote  \\\n",
       "0     I'm selfish, impatient and a little insecure. ...   \n",
       "1     You've gotta dance like there's nobody watchin...   \n",
       "2     You know you're in love when you can't fall as...   \n",
       "3     A friend is someone who knows all about you an...   \n",
       "4     Darkness cannot drive out darkness: only light...   \n",
       "...                                                 ...   \n",
       "9995  The only time I hold my wife's hand tightly is...   \n",
       "9996               Never judge an author by her haters.   \n",
       "9997  Lovers are food for each other to sustain thei...   \n",
       "9998  The world can be a great big scary place,and f...   \n",
       "9999  It’s frightening because love is unpredictable...   \n",
       "\n",
       "                      author  \\\n",
       "0             Marilyn Monroe   \n",
       "1          William W. Purkey   \n",
       "2                  Dr. Seuss   \n",
       "3             Elbert Hubbard   \n",
       "4     Martin Luther King Jr.   \n",
       "...                      ...   \n",
       "9995       Matshona Dhliwayo   \n",
       "9996       Tracy Millosovich   \n",
       "9997              Munia Khan   \n",
       "9998    Rachel C. Weingarten   \n",
       "9999              S.A. Wolfe   \n",
       "\n",
       "                                               category  author_len  \n",
       "0     attributed-no-source, best, life, love, mistak...           2  \n",
       "1     dance, heaven, hurt, inspirational, life, love...           3  \n",
       "2     attributed-no-source, dreams, love, reality, s...           2  \n",
       "3                   friend, friendship, knowledge, love           2  \n",
       "4     darkness, drive-out, hate, inspirational, ligh...           4  \n",
       "...                                                 ...         ...  \n",
       "9995  funny-quotations, funny-quote, funny-quotes, h...           2  \n",
       "9996  aturhot, author, authors-quote, haters-quote, ...           2  \n",
       "9997  each, food, foods, life, lives, love, love-quo...           2  \n",
       "9998             faith, faith-quotes, love, love-quotes           3  \n",
       "9999                      frightening-love, love-quotes           2  \n",
       "\n",
       "[10000 rows x 4 columns]"
      ]
     },
     "execution_count": 9,
     "metadata": {},
     "output_type": "execute_result"
    }
   ],
   "source": [
    "love_quotes = quotes_df[quotes_df['category'].str.contains(' love')].iloc[:10000]\n",
    "love_quotes = love_quotes.reset_index(drop=True)\n",
    "love_quotes"
   ]
  },
  {
   "cell_type": "code",
   "execution_count": 10,
   "metadata": {},
   "outputs": [],
   "source": [
    "start = time.time()\n",
    "\n",
    "# Load pre-trained BERT model and tokenizer\n",
    "model_name = \"bert-base-uncased\"\n",
    "tokenizer = BertTokenizer.from_pretrained(model_name)\n",
    "model = BertModel.from_pretrained(model_name)\n",
    "\n",
    "# matrix = build_bert_matrix(love_quotes, tokenizer, model)\n",
    "# end = time.time() \n",
    "\n",
    "# print(f'Initialising the matrix for {matrix.shape[0]} quotes took {round(end - start, 2)} seconds.')"
   ]
  },
  {
   "cell_type": "code",
   "execution_count": 12,
   "metadata": {},
   "outputs": [
    {
     "data": {
      "text/plain": [
       "(10000, 768)"
      ]
     },
     "execution_count": 12,
     "metadata": {},
     "output_type": "execute_result"
    }
   ],
   "source": [
    "# Load saved matrix\n",
    "matrix = np.load('love_quote_matrix', allow_pickle=True)\n",
    "matrix.shape"
   ]
  },
  {
   "cell_type": "code",
   "execution_count": 24,
   "metadata": {},
   "outputs": [
    {
     "data": {
      "text/plain": [
       "'What she had realized was that love was that moment when your heart was about to burst.'"
      ]
     },
     "execution_count": 24,
     "metadata": {},
     "output_type": "execute_result"
    }
   ],
   "source": [
    "love_quotes.iloc[149]['quote']"
   ]
  },
  {
   "cell_type": "code",
   "execution_count": 49,
   "metadata": {},
   "outputs": [
    {
     "name": "stdout",
     "output_type": "stream",
     "text": [
      "Received input: \"love is love is love is love is love is\"\n",
      "\n",
      "----------------\n",
      "\n",
      "finished computing temp\n",
      "finished computing distances\n",
      "finished sorting\n",
      "\n",
      "\"Love is black. Love is white. Love is brown. Love is humanity.\"\n",
      " - Matshona Dhliwayo\n",
      "\n",
      "\"Love is kind. Kind is love.\"\n",
      " - Lailah Gifty Akita\n",
      "\n",
      "\"God is love, as we love we become like God\"\n",
      " - Lailah Gifty Akita\n",
      "\n",
      "\"Love is cure, love is power,love is magicof changes,love is the mirror of divine beauty\"\n",
      " - Altaf ul qadri\n",
      "\n",
      "\"Love hopes. Love helps. Love heals. Love hears.\"\n",
      " - Matshona Dhliwayo\n",
      "\n",
      "\"Know love. Sow love. Grow love!\"\n",
      " - Israelmore Ayivor\n",
      "\n",
      "\"Hate is... It's too easy. Love. Love takes courage.\"\n",
      " - Hannah Harrington\n",
      "\n",
      "\"See what love sees. Hear what love hears. Say what love says. Do what love does.\"\n",
      " - Matshona Dhliwayo\n",
      "\n",
      "\"The opposite of grief is not laughter or happiness or joy. It is love. It is love. It is love.\"\n",
      " - Akif Kichloo\n",
      "\n",
      "\"LOVE IS NOMADICAND I'M A GYPSY SOULSO LOVE GOES WHEREVER I GO \"\n",
      " - Qwana Reynolds-Frasier\n",
      "\n",
      "=======================================================\n",
      "That - with matrix operations - took 0.07 seconds\n",
      "> Number of quotes: 10000\n",
      "=======================================================\n"
     ]
    }
   ],
   "source": [
    "NUM_QUOTES = 10\n",
    "\n",
    "# sentence = input(\"What would you like the quote to say?\")\n",
    "sentence = \"love is love is love is love is love is\"\n",
    "# \n",
    "# LENGTH OF INPUT MAKES A MASSIVE DIFFERENCE - shorter inputs result in shorter quotes that may or may not be close in meaning... \n",
    "# longer inputs (even just repeating the shorter input to make it longer) result in longer quotes, sometimes better for meaning\n",
    "# \n",
    "# HOW DO WE MAKE THIS INDEPENDENT OF QUOTE LENGTH, AND PURELY BY MEANING?\n",
    "# \n",
    "print(f'Received input: \"{sentence}\"')\n",
    "print('\\n----------------\\n')\n",
    "\n",
    "start = time.time()\n",
    "\n",
    "text = sentence.lower()\n",
    "text_vect = encode_document(text, tokenizer, model)\n",
    "topN_indices = find_closest_quotes(text_vect, matrix, NUM_QUOTES)\n",
    "\n",
    "for idx in topN_indices:\n",
    "    print_quote_by_index(idx, love_quotes)\n",
    "\n",
    "end = time.time()\n",
    "duration = round(end - start, 2)\n",
    "print('=======================================================')\n",
    "print(f'That - with matrix operations - took {duration} seconds')\n",
    "print(f'> Number of quotes: {matrix.shape[0]}')\n",
    "print('=======================================================')"
   ]
  },
  {
   "cell_type": "code",
   "execution_count": null,
   "metadata": {},
   "outputs": [],
   "source": []
  },
  {
   "cell_type": "code",
   "execution_count": null,
   "metadata": {},
   "outputs": [],
   "source": []
  },
  {
   "cell_type": "code",
   "execution_count": null,
   "metadata": {},
   "outputs": [],
   "source": []
  },
  {
   "cell_type": "code",
   "execution_count": null,
   "metadata": {},
   "outputs": [],
   "source": []
  },
  {
   "cell_type": "code",
   "execution_count": null,
   "metadata": {},
   "outputs": [],
   "source": []
  },
  {
   "cell_type": "code",
   "execution_count": null,
   "metadata": {},
   "outputs": [],
   "source": []
  },
  {
   "cell_type": "code",
   "execution_count": null,
   "metadata": {},
   "outputs": [],
   "source": []
  },
  {
   "cell_type": "code",
   "execution_count": null,
   "metadata": {},
   "outputs": [],
   "source": []
  },
  {
   "cell_type": "code",
   "execution_count": null,
   "metadata": {},
   "outputs": [],
   "source": []
  },
  {
   "cell_type": "code",
   "execution_count": null,
   "metadata": {},
   "outputs": [],
   "source": []
  },
  {
   "cell_type": "code",
   "execution_count": null,
   "metadata": {},
   "outputs": [],
   "source": []
  },
  {
   "cell_type": "code",
   "execution_count": 20,
   "metadata": {},
   "outputs": [],
   "source": [
    "# Dump matrix for later\n",
    "matrix.dump('love_quote_matrix')"
   ]
  },
  {
   "cell_type": "code",
   "execution_count": null,
   "metadata": {},
   "outputs": [],
   "source": []
  },
  {
   "cell_type": "code",
   "execution_count": null,
   "metadata": {},
   "outputs": [],
   "source": []
  },
  {
   "cell_type": "code",
   "execution_count": null,
   "metadata": {},
   "outputs": [],
   "source": []
  },
  {
   "cell_type": "code",
   "execution_count": null,
   "metadata": {},
   "outputs": [],
   "source": []
  },
  {
   "cell_type": "code",
   "execution_count": 9,
   "metadata": {},
   "outputs": [],
   "source": []
  },
  {
   "cell_type": "code",
   "execution_count": null,
   "metadata": {},
   "outputs": [],
   "source": []
  },
  {
   "cell_type": "code",
   "execution_count": null,
   "metadata": {},
   "outputs": [],
   "source": []
  },
  {
   "cell_type": "code",
   "execution_count": null,
   "metadata": {},
   "outputs": [],
   "source": []
  }
 ],
 "metadata": {
  "kernelspec": {
   "display_name": "Python 3 (ipykernel)",
   "language": "python",
   "name": "python3"
  },
  "language_info": {
   "codemirror_mode": {
    "name": "ipython",
    "version": 3
   },
   "file_extension": ".py",
   "mimetype": "text/x-python",
   "name": "python",
   "nbconvert_exporter": "python",
   "pygments_lexer": "ipython3",
   "version": "3.9.6"
  }
 },
 "nbformat": 4,
 "nbformat_minor": 4
}
